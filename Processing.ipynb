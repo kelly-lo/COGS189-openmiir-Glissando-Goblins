{
 "cells": [
  {
   "cell_type": "code",
   "execution_count": 4,
   "metadata": {},
   "outputs": [],
   "source": [
    "import os\n",
    "import numpy as np\n",
    "import mne\n",
    "import sklearn\n",
    "import matplotlib.pyplot as plt"
   ]
  },
  {
   "cell_type": "code",
   "execution_count": 5,
   "metadata": {},
   "outputs": [],
   "source": [
    "# set the participant number\n",
    "PNUM = \"01\"\n",
    "\n",
    "# important channels\n",
    "RAW_EOG_CHANNELS = [u'EXG1', u'EXG2', u'EXG3', u'EXG4']\n",
    "MASTOID_CHANNELS = [u'EXG5', u'EXG6']"
   ]
  },
  {
   "cell_type": "code",
   "execution_count": 6,
   "metadata": {},
   "outputs": [
    {
     "name": "stdout",
     "output_type": "stream",
     "text": [
      "Opening raw data file raw_data\\P01-raw.fif...\n"
     ]
    },
    {
     "ename": "FileNotFoundError",
     "evalue": "fname does not exist: c:\\Users\\jonbi\\OneDrive\\Documents\\UCSD\\Classes\\COGS_189\\COGS189-openmiir-Glissando-Goblins\\raw_data\\P01-raw.fif",
     "output_type": "error",
     "traceback": [
      "\u001b[1;31m---------------------------------------------------------------------------\u001b[0m",
      "\u001b[1;31mFileNotFoundError\u001b[0m                         Traceback (most recent call last)",
      "\u001b[1;32mc:\\Users\\jonbi\\OneDrive\\Documents\\UCSD\\Classes\\COGS_189\\COGS189-openmiir-Glissando-Goblins\\Processing.ipynb Cell 3'\u001b[0m in \u001b[0;36m<cell line: 2>\u001b[1;34m()\u001b[0m\n\u001b[0;32m      <a href='vscode-notebook-cell:/c%3A/Users/jonbi/OneDrive/Documents/UCSD/Classes/COGS_189/COGS189-openmiir-Glissando-Goblins/Processing.ipynb#ch0000001?line=0'>1</a>\u001b[0m data_raw_file \u001b[39m=\u001b[39m os\u001b[39m.\u001b[39mpath\u001b[39m.\u001b[39mjoin(\u001b[39m'\u001b[39m\u001b[39mraw_data\u001b[39m\u001b[39m'\u001b[39m, \u001b[39m'\u001b[39m\u001b[39mP\u001b[39m\u001b[39m'\u001b[39m \u001b[39m+\u001b[39m PNUM \u001b[39m+\u001b[39m \u001b[39m'\u001b[39m\u001b[39m-raw.fif\u001b[39m\u001b[39m'\u001b[39m)\n\u001b[1;32m----> <a href='vscode-notebook-cell:/c%3A/Users/jonbi/OneDrive/Documents/UCSD/Classes/COGS_189/COGS189-openmiir-Glissando-Goblins/Processing.ipynb#ch0000001?line=1'>2</a>\u001b[0m raw \u001b[39m=\u001b[39m mne\u001b[39m.\u001b[39;49mio\u001b[39m.\u001b[39;49mread_raw_fif(data_raw_file)\n",
      "File \u001b[1;32m~\\AppData\\Local\\Programs\\Python\\Python39\\lib\\site-packages\\mne\\io\\fiff\\raw.py:473\u001b[0m, in \u001b[0;36mread_raw_fif\u001b[1;34m(fname, allow_maxshield, preload, on_split_missing, verbose)\u001b[0m\n\u001b[0;32m    <a href='file:///c%3A/Users/jonbi/AppData/Local/Programs/Python/Python39/lib/site-packages/mne/io/fiff/raw.py?line=437'>438</a>\u001b[0m \u001b[39m@fill_doc\u001b[39m\n\u001b[0;32m    <a href='file:///c%3A/Users/jonbi/AppData/Local/Programs/Python/Python39/lib/site-packages/mne/io/fiff/raw.py?line=438'>439</a>\u001b[0m \u001b[39mdef\u001b[39;00m \u001b[39mread_raw_fif\u001b[39m(fname, allow_maxshield\u001b[39m=\u001b[39m\u001b[39mFalse\u001b[39;00m, preload\u001b[39m=\u001b[39m\u001b[39mFalse\u001b[39;00m,\n\u001b[0;32m    <a href='file:///c%3A/Users/jonbi/AppData/Local/Programs/Python/Python39/lib/site-packages/mne/io/fiff/raw.py?line=439'>440</a>\u001b[0m                  on_split_missing\u001b[39m=\u001b[39m\u001b[39m'\u001b[39m\u001b[39mraise\u001b[39m\u001b[39m'\u001b[39m, verbose\u001b[39m=\u001b[39m\u001b[39mNone\u001b[39;00m):\n\u001b[0;32m    <a href='file:///c%3A/Users/jonbi/AppData/Local/Programs/Python/Python39/lib/site-packages/mne/io/fiff/raw.py?line=440'>441</a>\u001b[0m     \u001b[39m\"\"\"Reader function for Raw FIF data.\u001b[39;00m\n\u001b[0;32m    <a href='file:///c%3A/Users/jonbi/AppData/Local/Programs/Python/Python39/lib/site-packages/mne/io/fiff/raw.py?line=441'>442</a>\u001b[0m \n\u001b[0;32m    <a href='file:///c%3A/Users/jonbi/AppData/Local/Programs/Python/Python39/lib/site-packages/mne/io/fiff/raw.py?line=442'>443</a>\u001b[0m \u001b[39m    Parameters\u001b[39;00m\n\u001b[1;32m   (...)\u001b[0m\n\u001b[0;32m    <a href='file:///c%3A/Users/jonbi/AppData/Local/Programs/Python/Python39/lib/site-packages/mne/io/fiff/raw.py?line=470'>471</a>\u001b[0m \u001b[39m    .. versionadded:: 0.9.0\u001b[39;00m\n\u001b[0;32m    <a href='file:///c%3A/Users/jonbi/AppData/Local/Programs/Python/Python39/lib/site-packages/mne/io/fiff/raw.py?line=471'>472</a>\u001b[0m \u001b[39m    \"\"\"\u001b[39;00m\n\u001b[1;32m--> <a href='file:///c%3A/Users/jonbi/AppData/Local/Programs/Python/Python39/lib/site-packages/mne/io/fiff/raw.py?line=472'>473</a>\u001b[0m     \u001b[39mreturn\u001b[39;00m Raw(fname\u001b[39m=\u001b[39;49mfname, allow_maxshield\u001b[39m=\u001b[39;49mallow_maxshield,\n\u001b[0;32m    <a href='file:///c%3A/Users/jonbi/AppData/Local/Programs/Python/Python39/lib/site-packages/mne/io/fiff/raw.py?line=473'>474</a>\u001b[0m                preload\u001b[39m=\u001b[39;49mpreload, verbose\u001b[39m=\u001b[39;49mverbose,\n\u001b[0;32m    <a href='file:///c%3A/Users/jonbi/AppData/Local/Programs/Python/Python39/lib/site-packages/mne/io/fiff/raw.py?line=474'>475</a>\u001b[0m                on_split_missing\u001b[39m=\u001b[39;49mon_split_missing)\n",
      "File \u001b[1;32m<decorator-gen-229>:24\u001b[0m, in \u001b[0;36m__init__\u001b[1;34m(self, fname, allow_maxshield, preload, on_split_missing, verbose)\u001b[0m\n",
      "File \u001b[1;32m~\\AppData\\Local\\Programs\\Python\\Python39\\lib\\site-packages\\mne\\io\\fiff\\raw.py:81\u001b[0m, in \u001b[0;36mRaw.__init__\u001b[1;34m(self, fname, allow_maxshield, preload, on_split_missing, verbose)\u001b[0m\n\u001b[0;32m     <a href='file:///c%3A/Users/jonbi/AppData/Local/Programs/Python/Python39/lib/site-packages/mne/io/fiff/raw.py?line=77'>78</a>\u001b[0m next_fname \u001b[39m=\u001b[39m fname\n\u001b[0;32m     <a href='file:///c%3A/Users/jonbi/AppData/Local/Programs/Python/Python39/lib/site-packages/mne/io/fiff/raw.py?line=78'>79</a>\u001b[0m \u001b[39mwhile\u001b[39;00m next_fname \u001b[39mis\u001b[39;00m \u001b[39mnot\u001b[39;00m \u001b[39mNone\u001b[39;00m:\n\u001b[0;32m     <a href='file:///c%3A/Users/jonbi/AppData/Local/Programs/Python/Python39/lib/site-packages/mne/io/fiff/raw.py?line=79'>80</a>\u001b[0m     raw, next_fname, buffer_size_sec \u001b[39m=\u001b[39m \\\n\u001b[1;32m---> <a href='file:///c%3A/Users/jonbi/AppData/Local/Programs/Python/Python39/lib/site-packages/mne/io/fiff/raw.py?line=80'>81</a>\u001b[0m         \u001b[39mself\u001b[39;49m\u001b[39m.\u001b[39;49m_read_raw_file(next_fname, allow_maxshield,\n\u001b[0;32m     <a href='file:///c%3A/Users/jonbi/AppData/Local/Programs/Python/Python39/lib/site-packages/mne/io/fiff/raw.py?line=81'>82</a>\u001b[0m                             preload, do_check_ext)\n\u001b[0;32m     <a href='file:///c%3A/Users/jonbi/AppData/Local/Programs/Python/Python39/lib/site-packages/mne/io/fiff/raw.py?line=82'>83</a>\u001b[0m     do_check_ext \u001b[39m=\u001b[39m \u001b[39mFalse\u001b[39;00m\n\u001b[0;32m     <a href='file:///c%3A/Users/jonbi/AppData/Local/Programs/Python/Python39/lib/site-packages/mne/io/fiff/raw.py?line=83'>84</a>\u001b[0m     raws\u001b[39m.\u001b[39mappend(raw)\n",
      "File \u001b[1;32m<decorator-gen-230>:24\u001b[0m, in \u001b[0;36m_read_raw_file\u001b[1;34m(self, fname, allow_maxshield, preload, do_check_ext, verbose)\u001b[0m\n",
      "File \u001b[1;32m~\\AppData\\Local\\Programs\\Python\\Python39\\lib\\site-packages\\mne\\io\\fiff\\raw.py:146\u001b[0m, in \u001b[0;36mRaw._read_raw_file\u001b[1;34m(self, fname, allow_maxshield, preload, do_check_ext, verbose)\u001b[0m\n\u001b[0;32m    <a href='file:///c%3A/Users/jonbi/AppData/Local/Programs/Python/Python39/lib/site-packages/mne/io/fiff/raw.py?line=143'>144</a>\u001b[0m     check_fname(fname, \u001b[39m'\u001b[39m\u001b[39mraw\u001b[39m\u001b[39m'\u001b[39m, endings)\n\u001b[0;32m    <a href='file:///c%3A/Users/jonbi/AppData/Local/Programs/Python/Python39/lib/site-packages/mne/io/fiff/raw.py?line=144'>145</a>\u001b[0m \u001b[39m# filename\u001b[39;00m\n\u001b[1;32m--> <a href='file:///c%3A/Users/jonbi/AppData/Local/Programs/Python/Python39/lib/site-packages/mne/io/fiff/raw.py?line=145'>146</a>\u001b[0m fname \u001b[39m=\u001b[39m _check_fname(fname, \u001b[39m'\u001b[39;49m\u001b[39mread\u001b[39;49m\u001b[39m'\u001b[39;49m, \u001b[39mTrue\u001b[39;49;00m, \u001b[39m'\u001b[39;49m\u001b[39mfname\u001b[39;49m\u001b[39m'\u001b[39;49m)\n\u001b[0;32m    <a href='file:///c%3A/Users/jonbi/AppData/Local/Programs/Python/Python39/lib/site-packages/mne/io/fiff/raw.py?line=146'>147</a>\u001b[0m ext \u001b[39m=\u001b[39m os\u001b[39m.\u001b[39mpath\u001b[39m.\u001b[39msplitext(fname)[\u001b[39m1\u001b[39m]\u001b[39m.\u001b[39mlower()\n\u001b[0;32m    <a href='file:///c%3A/Users/jonbi/AppData/Local/Programs/Python/Python39/lib/site-packages/mne/io/fiff/raw.py?line=147'>148</a>\u001b[0m whole_file \u001b[39m=\u001b[39m preload \u001b[39mif\u001b[39;00m \u001b[39m'\u001b[39m\u001b[39m.gz\u001b[39m\u001b[39m'\u001b[39m \u001b[39min\u001b[39;00m ext \u001b[39melse\u001b[39;00m \u001b[39mFalse\u001b[39;00m\n",
      "File \u001b[1;32m~\\AppData\\Local\\Programs\\Python\\Python39\\lib\\site-packages\\mne\\utils\\check.py:186\u001b[0m, in \u001b[0;36m_check_fname\u001b[1;34m(fname, overwrite, must_exist, name, need_dir)\u001b[0m\n\u001b[0;32m    <a href='file:///c%3A/Users/jonbi/AppData/Local/Programs/Python/Python39/lib/site-packages/mne/utils/check.py?line=182'>183</a>\u001b[0m             \u001b[39mraise\u001b[39;00m \u001b[39mPermissionError\u001b[39;00m(\n\u001b[0;32m    <a href='file:///c%3A/Users/jonbi/AppData/Local/Programs/Python/Python39/lib/site-packages/mne/utils/check.py?line=183'>184</a>\u001b[0m                 \u001b[39mf\u001b[39m\u001b[39m'\u001b[39m\u001b[39m{\u001b[39;00mname\u001b[39m}\u001b[39;00m\u001b[39m does not have read permissions: \u001b[39m\u001b[39m{\u001b[39;00mfname\u001b[39m}\u001b[39;00m\u001b[39m'\u001b[39m)\n\u001b[0;32m    <a href='file:///c%3A/Users/jonbi/AppData/Local/Programs/Python/Python39/lib/site-packages/mne/utils/check.py?line=184'>185</a>\u001b[0m \u001b[39melif\u001b[39;00m must_exist:\n\u001b[1;32m--> <a href='file:///c%3A/Users/jonbi/AppData/Local/Programs/Python/Python39/lib/site-packages/mne/utils/check.py?line=185'>186</a>\u001b[0m     \u001b[39mraise\u001b[39;00m \u001b[39mFileNotFoundError\u001b[39;00m(\u001b[39mf\u001b[39m\u001b[39m'\u001b[39m\u001b[39m{\u001b[39;00mname\u001b[39m}\u001b[39;00m\u001b[39m does not exist: \u001b[39m\u001b[39m{\u001b[39;00mfname\u001b[39m}\u001b[39;00m\u001b[39m'\u001b[39m)\n\u001b[0;32m    <a href='file:///c%3A/Users/jonbi/AppData/Local/Programs/Python/Python39/lib/site-packages/mne/utils/check.py?line=187'>188</a>\u001b[0m \u001b[39mreturn\u001b[39;00m fname\n",
      "\u001b[1;31mFileNotFoundError\u001b[0m: fname does not exist: c:\\Users\\jonbi\\OneDrive\\Documents\\UCSD\\Classes\\COGS_189\\COGS189-openmiir-Glissando-Goblins\\raw_data\\P01-raw.fif"
     ]
    }
   ],
   "source": [
    "data_raw_file = os.path.join('raw_data', 'P' + PNUM + '-raw.fif')\n",
    "raw = mne.io.read_raw_fif(data_raw_file)"
   ]
  },
  {
   "cell_type": "code",
   "execution_count": null,
   "metadata": {},
   "outputs": [],
   "source": [
    "print(raw)\n",
    "print(raw.info)\n",
    "\n",
    "# plot eeg data\n",
    "# raw.plot_psd(fmax=30)\n",
    "# raw.plot(duration=5, n_channels=30)"
   ]
  },
  {
   "cell_type": "code",
   "execution_count": null,
   "metadata": {},
   "outputs": [],
   "source": [
    "# mastoid channel stuff - according to openmirr repo\n",
    "if MASTOID_CHANNELS[0] in raw.ch_names:\n",
    "    mne.io.set_eeg_reference(raw.load_data(), MASTOID_CHANNELS, copy=False) # inplace\n",
    "    raw.drop_channels(MASTOID_CHANNELS)\n"
   ]
  },
  {
   "cell_type": "code",
   "execution_count": null,
   "metadata": {},
   "outputs": [],
   "source": [
    "# Drop bad channels - in place on raw\n",
    "for bad_channel in raw.info['bads']:\n",
    "    raw.drop_channels(bad_channel)\n",
    "    print(\"dropped: \" + bad_channel)"
   ]
  },
  {
   "cell_type": "code",
   "execution_count": null,
   "metadata": {},
   "outputs": [],
   "source": [
    "RAW_COPY = raw.copy()\n",
    "\n",
    "eeg_picks = mne.pick_types(raw.info, meg=False, eeg=True, eog=False, stim=False, exclude=[])\n",
    "\n",
    "# bandpass filter - keeping a frequency range between 0.5 (high pass filter) and 30 Hz (low pass filter)\n",
    "filtered_data = raw.load_data().filter(0.5, 30, picks=eeg_picks)"
   ]
  },
  {
   "cell_type": "code",
   "execution_count": null,
   "metadata": {},
   "outputs": [],
   "source": [
    "data_file = os.path.join('ica_data', 'P' + PNUM + '-ica.fif')\n",
    "ica = mne.preprocessing.read_ica('data_file')\n",
    "raw_cleaned = ica.apply(filtered_data, exclude=ica.exclude)"
   ]
  },
  {
   "cell_type": "code",
   "execution_count": null,
   "metadata": {},
   "outputs": [
    {
     "ename": "NameError",
     "evalue": "name 'raw_cleaned' is not defined",
     "output_type": "error",
     "traceback": [
      "\u001b[1;31m---------------------------------------------------------------------------\u001b[0m",
      "\u001b[1;31mNameError\u001b[0m                                 Traceback (most recent call last)",
      "\u001b[1;32mc:\\Users\\jonbi\\OneDrive\\Documents\\UCSD\\Classes\\COGS_189\\COGS189-openmiir-Glissando-Goblins\\Processing.ipynb Cell 9'\u001b[0m in \u001b[0;36m<cell line: 1>\u001b[1;34m()\u001b[0m\n\u001b[1;32m----> <a href='vscode-notebook-cell:/c%3A/Users/jonbi/OneDrive/Documents/UCSD/Classes/COGS_189/COGS189-openmiir-Glissando-Goblins/Processing.ipynb#ch0000008?line=0'>1</a>\u001b[0m raw_cleaned\n",
      "\u001b[1;31mNameError\u001b[0m: name 'raw_cleaned' is not defined"
     ]
    }
   ],
   "source": [
    "raw_cleaned"
   ]
  },
  {
   "cell_type": "code",
   "execution_count": null,
   "metadata": {},
   "outputs": [],
   "source": []
  },
  {
   "cell_type": "code",
   "execution_count": null,
   "metadata": {},
   "outputs": [],
   "source": []
  },
  {
   "cell_type": "code",
   "execution_count": null,
   "metadata": {},
   "outputs": [],
   "source": []
  }
 ],
 "metadata": {
  "interpreter": {
   "hash": "02c00d6781fe7a274057a43bf66a42b58f2deca2044d9a97dadb3e2d01ad6dca"
  },
  "kernelspec": {
   "display_name": "Python 3.9.10 64-bit",
   "language": "python",
   "name": "python3"
  },
  "language_info": {
   "codemirror_mode": {
    "name": "ipython",
    "version": 3
   },
   "file_extension": ".py",
   "mimetype": "text/x-python",
   "name": "python",
   "nbconvert_exporter": "python",
   "pygments_lexer": "ipython3",
   "version": "3.9.10"
  },
  "orig_nbformat": 4
 },
 "nbformat": 4,
 "nbformat_minor": 2
}
