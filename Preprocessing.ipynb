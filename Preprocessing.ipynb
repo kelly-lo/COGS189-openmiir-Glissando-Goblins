{
 "cells": [
  {
   "cell_type": "code",
   "execution_count": 1,
   "metadata": {},
   "outputs": [],
   "source": [
    "import os\n",
    "import numpy as np\n",
    "import mne"
   ]
  },
  {
   "cell_type": "code",
   "execution_count": 2,
   "metadata": {},
   "outputs": [],
   "source": [
    "# set the participant number\n",
    "PNUM = \"13\""
   ]
  },
  {
   "cell_type": "code",
   "execution_count": 3,
   "metadata": {},
   "outputs": [],
   "source": [
    "RAW_EOG_CHANNELS = [u'EXG1', u'EXG2', u'EXG3', u'EXG4']\n",
    "MASTOID_CHANNELS = [u'EXG5', u'EXG6']"
   ]
  },
  {
   "cell_type": "code",
   "execution_count": 4,
   "metadata": {},
   "outputs": [
    {
     "name": "stdout",
     "output_type": "stream",
     "text": [
      "Opening raw data file raw_data\\P13-raw.fif...\n",
      "Isotrak not found\n",
      "    Read a total of 1 projection items:\n",
      "        Average EEG reference (1 x 66)  idle\n",
      "    Range : 0 ... 2511914 =      0.000 ...  4906.082 secs\n",
      "Ready.\n"
     ]
    }
   ],
   "source": [
    "data_raw_file = os.path.join('raw_data', 'P' + PNUM + '-raw.fif')\n",
    "raw = mne.io.read_raw_fif(data_raw_file)"
   ]
  },
  {
   "cell_type": "code",
   "execution_count": 5,
   "metadata": {},
   "outputs": [
    {
     "name": "stdout",
     "output_type": "stream",
     "text": [
      "<Raw | P13-raw.fif, 71 x 2511915 (4906.1 s), ~80 kB, data not loaded>\n",
      "<Info | 11 non-empty values\n",
      " bads: 1 items (Iz)\n",
      " ch_names: Fp1, AF7, AF3, F1, F3, F5, F7, FT7, FC5, FC3, FC1, C1, C3, C5, ...\n",
      " chs: 66 EEG, 4 EOG, 1 Stimulus\n",
      " custom_ref_applied: False\n",
      " file_id: 4 items (dict)\n",
      " highpass: 0.0 Hz\n",
      " lowpass: 417.0 Hz\n",
      " meas_date: 2015-03-04 17:38:26 UTC\n",
      " meas_id: 4 items (dict)\n",
      " nchan: 71\n",
      " projs: Average EEG reference: off\n",
      " sfreq: 512.0 Hz\n",
      ">\n"
     ]
    }
   ],
   "source": [
    "print(raw)\n",
    "print(raw.info)\n",
    "\n",
    "# plot eeg data\n",
    "# raw.plot_psd(fmax=30)\n",
    "# raw.plot(duration=5, n_channels=30)"
   ]
  },
  {
   "cell_type": "code",
   "execution_count": 6,
   "metadata": {},
   "outputs": [
    {
     "name": "stdout",
     "output_type": "stream",
     "text": [
      "Reading 0 ... 2511914  =      0.000 ...  4906.082 secs...\n",
      "EEG channel type selected for re-referencing\n",
      "Applying a custom ('EEG',) reference.\n",
      "Removing existing average EEG reference projection.\n"
     ]
    }
   ],
   "source": [
    "# mastoid channel stuff - according to openmirr repo\n",
    "if MASTOID_CHANNELS[0] in raw.ch_names:\n",
    "    mne.io.set_eeg_reference(raw.load_data(), MASTOID_CHANNELS, copy=False) # inplace\n",
    "    raw.drop_channels(MASTOID_CHANNELS)\n"
   ]
  },
  {
   "cell_type": "code",
   "execution_count": 7,
   "metadata": {},
   "outputs": [
    {
     "name": "stdout",
     "output_type": "stream",
     "text": [
      "dropped: Iz\n"
     ]
    }
   ],
   "source": [
    "# Drop bad channels - in place on raw\n",
    "for bad_channel in raw.info['bads']:\n",
    "    raw.drop_channels(bad_channel)\n",
    "    print(\"dropped: \" + bad_channel)"
   ]
  },
  {
   "cell_type": "code",
   "execution_count": 8,
   "metadata": {
    "scrolled": false
   },
   "outputs": [
    {
     "name": "stdout",
     "output_type": "stream",
     "text": [
      "Filtering raw data in 1 contiguous segment\n",
      "Setting up band-pass filter from 0.5 - 30 Hz\n",
      "\n",
      "FIR filter parameters\n",
      "---------------------\n",
      "Designing a one-pass, zero-phase, non-causal bandpass filter:\n",
      "- Windowed time-domain design (firwin) method\n",
      "- Hamming window with 0.0194 passband ripple and 53 dB stopband attenuation\n",
      "- Lower passband edge: 0.50\n",
      "- Lower transition bandwidth: 0.50 Hz (-6 dB cutoff frequency: 0.25 Hz)\n",
      "- Upper passband edge: 30.00 Hz\n",
      "- Upper transition bandwidth: 7.50 Hz (-6 dB cutoff frequency: 33.75 Hz)\n",
      "- Filter length: 3381 samples (6.604 sec)\n",
      "\n"
     ]
    }
   ],
   "source": [
    "RAW_COPY = raw.copy()\n",
    "\n",
    "eeg_picks = mne.pick_types(raw.info, meg=False, eeg=True, eog=False, stim=False, exclude=[])\n",
    "\n",
    "# bandpass filter - keeping a frequency range between 0.5 (high pass filter) and 30 Hz (low pass filter)\n",
    "filtered_data = raw.load_data().filter(0.5, 30, picks=eeg_picks)"
   ]
  },
  {
   "cell_type": "markdown",
   "metadata": {},
   "source": [
    "### RUN BELOW CODE IF ICA NOT GENERATED"
   ]
  },
  {
   "cell_type": "code",
   "execution_count": null,
   "metadata": {
    "scrolled": true
   },
   "outputs": [
    {
     "name": "stdout",
     "output_type": "stream",
     "text": [
      "Fitting ICA to data using 63 channels (please be patient, this may take a while)\n",
      "Selecting by non-zero PCA components: 63 components\n",
      " \n"
     ]
    },
    {
     "name": "stderr",
     "output_type": "stream",
     "text": [
      "C:\\Users\\t\\anaconda3\\lib\\site-packages\\mne\\preprocessing\\infomax_.py:192: RuntimeWarning: overflow encountered in exp\n",
      "  y = 1.0 / (1.0 + np.exp(-u))\n"
     ]
    }
   ],
   "source": [
    "# set up and fit the ICA - infomax method\n",
    "ica = mne.preprocessing.ICA(method='infomax')\n",
    "ica.fit(filtered_data)"
   ]
  },
  {
   "cell_type": "code",
   "execution_count": null,
   "metadata": {},
   "outputs": [],
   "source": [
    "# auto-detect artifacts by simple statistics\n",
    "ica.exclude = []\n",
    "ica.detect_artifacts(filtered_data)\n",
    "print(ica.exclude)"
   ]
  },
  {
   "cell_type": "code",
   "execution_count": null,
   "metadata": {},
   "outputs": [],
   "source": [
    "# score EEG channels by EOG correlation\n",
    "bad_comps = set()\n",
    "\n",
    "for eog_channel in RAW_EOG_CHANNELS:\n",
    "    bad, scores = ica.find_bads_eog(filtered_data, ch_name=eog_channel, l_freq=0.5, h_freq=30)\n",
    "    ica.plot_scores(scores, exclude=bad, title='In Red, EOG artifact sources')\n",
    "    bad_comps.update(bad)\n",
    "    print(bad)\n",
    "    print(\"=========================\\n\")"
   ]
  },
  {
   "cell_type": "code",
   "execution_count": null,
   "metadata": {
    "scrolled": true
   },
   "outputs": [],
   "source": [
    "# view ica components to remove based on EOG correl\n",
    "ica.plot_components(picks=list(bad_comps), ch_type='eeg', title='', colorbar=True, show=True);"
   ]
  },
  {
   "cell_type": "code",
   "execution_count": null,
   "metadata": {},
   "outputs": [],
   "source": [
    "# combine excluded components\n",
    "ica.exclude.extend(list(bad_comps))\n",
    "print(list(set(ica.exclude)))"
   ]
  },
  {
   "cell_type": "code",
   "execution_count": null,
   "metadata": {},
   "outputs": [],
   "source": [
    "# save ICA result for later\n",
    "ica.save('ica_data/P' + PNUM + '-ica.fif', overwrite=True)"
   ]
  },
  {
   "cell_type": "markdown",
   "metadata": {},
   "source": [
    "### CONTINUE FROM HERE IF ICA GENERATED"
   ]
  },
  {
   "cell_type": "code",
   "execution_count": null,
   "metadata": {},
   "outputs": [],
   "source": [
    "ica = mne.preprocessing.read_ica('ica_data/P' + PNUM + '-ica.fif')"
   ]
  },
  {
   "cell_type": "code",
   "execution_count": null,
   "metadata": {},
   "outputs": [],
   "source": [
    "# apply the transformation\n",
    "postica_data = ica.apply(filtered_data, exclude=ica.exclude)\n",
    "#ica.plot_components(ch_type='eeg', title='', colorbar=True, show=True);\n",
    "#ica.plot_properties(filtered_data, ch_type='eeg', title='', colorbar=True, show=True);"
   ]
  },
  {
   "cell_type": "code",
   "execution_count": null,
   "metadata": {},
   "outputs": [],
   "source": []
  }
 ],
 "metadata": {
  "interpreter": {
   "hash": "73df3d2a648ddfe6e132dd0b2981f8c5ee01eb57f65aaa52301d101a94b0ebb5"
  },
  "kernelspec": {
   "display_name": "Python 3",
   "language": "python",
   "name": "python3"
  },
  "language_info": {
   "codemirror_mode": {
    "name": "ipython",
    "version": 3
   },
   "file_extension": ".py",
   "mimetype": "text/x-python",
   "name": "python",
   "nbconvert_exporter": "python",
   "pygments_lexer": "ipython3",
   "version": "3.8.3"
  }
 },
 "nbformat": 4,
 "nbformat_minor": 2
}
